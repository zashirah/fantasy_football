{
 "cells": [
  {
   "cell_type": "code",
   "execution_count": 23,
   "id": "117756e9-e6dd-476a-980a-4e7d5c4eed97",
   "metadata": {},
   "outputs": [],
   "source": [
    "import duckdb"
   ]
  },
  {
   "cell_type": "code",
   "execution_count": 24,
   "id": "48368e89-bac2-4e2c-8f54-1575d5748406",
   "metadata": {},
   "outputs": [],
   "source": [
    "import pandas as pd"
   ]
  },
  {
   "cell_type": "code",
   "execution_count": 25,
   "id": "24b480ed-5e5f-4d01-88c0-4804285d9c6a",
   "metadata": {},
   "outputs": [],
   "source": [
    "import os"
   ]
  },
  {
   "cell_type": "code",
   "execution_count": 26,
   "id": "b68c782b-ecfe-46ff-a885-9f6c4f50d782",
   "metadata": {},
   "outputs": [],
   "source": [
    "def list_directories(start_path='.'):\n",
    "    out = []\n",
    "    for root, dirs, files in os.walk(start_path):\n",
    "        if len(dirs) == 0 and '.ipynb' not in root:\n",
    "            out.append(root)\n",
    "\n",
    "    return out\n",
    "\n",
    "# Specify the directory path you want to start from\n",
    "directory_path = './data/'\n",
    "directories = list_directories(directory_path)"
   ]
  },
  {
   "cell_type": "code",
   "execution_count": 27,
   "id": "2cdb5d8f-f6b9-41b9-af16-f0a91cbb7f80",
   "metadata": {
    "scrolled": true
   },
   "outputs": [
    {
     "data": {
      "text/plain": [
       "['./data/nfl_data_py/depth_charts',\n",
       " './data/nfl_data_py/qbr',\n",
       " './data/nfl_data_py/snap_counts',\n",
       " './data/nfl_data_py/pbp_data',\n",
       " './data/nfl_data_py/schedules',\n",
       " './data/nfl_data_py/seasonal_pfr_pass',\n",
       " './data/nfl_data_py/seasonal_rosters',\n",
       " './data/nfl_data_py/ids',\n",
       " './data/nfl_data_py/weekly_pfr_pass',\n",
       " './data/nfl_data_py/win_totals',\n",
       " './data/nfl_data_py/injuries',\n",
       " './data/nfl_data_py/sc_totals',\n",
       " './data/nfl_data_py/teams',\n",
       " './data/nfl_data_py/seasonal_data',\n",
       " './data/nfl_data_py/weekly_data',\n",
       " './data/nfl_data_py/weekly_rosters',\n",
       " './data/espn_api/schedule',\n",
       " './data/espn_api/players',\n",
       " './data/espn_api/free_agents',\n",
       " './data/espn_api/box_scores',\n",
       " './data/espn_api/box_players']"
      ]
     },
     "execution_count": 27,
     "metadata": {},
     "output_type": "execute_result"
    }
   ],
   "source": [
    "directories"
   ]
  },
  {
   "cell_type": "code",
   "execution_count": 28,
   "id": "b109f7a6-93fd-4041-8df3-c1e41f431663",
   "metadata": {},
   "outputs": [],
   "source": [
    "md_token = # get from dev.env\n",
    "con = duckdb.connect(f\"md:?motherduck_token={md_token}\")\n"
   ]
  },
  {
   "cell_type": "code",
   "execution_count": 30,
   "id": "3ea60fbc-511f-46cc-8b1f-21ec5fabc3c2",
   "metadata": {},
   "outputs": [],
   "source": [
    "directories = ['./data/espn_api/box_scores']"
   ]
  },
  {
   "cell_type": "code",
   "execution_count": 32,
   "id": "ed24e4f0-8b0f-4316-a92e-ead9d7e17033",
   "metadata": {},
   "outputs": [
    {
     "name": "stdout",
     "output_type": "stream",
     "text": [
      "CREATE OR REPLACE TABLE nfl.espn_api.stg__box_scores as select * from './data/espn_api/box_scores/box_scores_*.json';\n"
     ]
    }
   ],
   "source": [
    "for directory in directories:\n",
    "    dir_parts = directory.split('/')\n",
    "    source = dir_parts[2]\n",
    "    table_name = dir_parts[3]\n",
    "    \n",
    "    if source == 'nfl_data_py':\n",
    "        file_type = 'parquet'\n",
    "    elif table_name in ('schedule', 'free_agents'):\n",
    "        file_type = 'csv'\n",
    "    else:\n",
    "        file_type = 'json'\n",
    "        \n",
    "    location = f'./data/{source}/{table_name}/{table_name}_*.{file_type}'\n",
    "    query = f\"CREATE OR REPLACE TABLE nfl.{source}.stg__{table_name} as select * from '{location}';\"\n",
    "\n",
    "    print(query)\n",
    "    con.sql(query)"
   ]
  },
  {
   "cell_type": "code",
   "execution_count": null,
   "id": "d02d8807-e173-4bb9-a3da-da8855a758ae",
   "metadata": {},
   "outputs": [],
   "source": []
  }
 ],
 "metadata": {
  "kernelspec": {
   "display_name": "Python 3 (ipykernel)",
   "language": "python",
   "name": "python3"
  },
  "language_info": {
   "codemirror_mode": {
    "name": "ipython",
    "version": 3
   },
   "file_extension": ".py",
   "mimetype": "text/x-python",
   "name": "python",
   "nbconvert_exporter": "python",
   "pygments_lexer": "ipython3",
   "version": "3.10.10"
  }
 },
 "nbformat": 4,
 "nbformat_minor": 5
}
