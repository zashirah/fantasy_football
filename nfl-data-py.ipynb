{
 "cells": [
  {
   "cell_type": "code",
   "execution_count": 1,
   "id": "3d2e1fd5-3adb-4b00-b480-c4a5ddae4225",
   "metadata": {},
   "outputs": [],
   "source": [
    "import nfl_data_py as nfl"
   ]
  },
  {
   "cell_type": "code",
   "execution_count": 2,
   "id": "0916a6f6-3be1-4155-87d2-f96ec758eb30",
   "metadata": {},
   "outputs": [],
   "source": [
    "from datetime import datetime\n"
   ]
  },
  {
   "cell_type": "markdown",
   "id": "9cc7d30f-82e1-4c3c-a573-a8d0615631b6",
   "metadata": {},
   "source": [
    "# endpoints we want\n",
    "\n",
    "* pbp_data\n",
    "* weekly_data\n",
    "* seasonal_data \n",
    "* seasonal_rosters\n",
    "* weekly_rosters\n",
    "* team_desc\n",
    "* schedules\n",
    "* ids\n",
    "* depth_charts\n",
    "* injuries\n",
    "* qbr\n",
    "* seasonal_pfrs\n",
    "* weekly_pfrs\n",
    "* snap_counts\n"
   ]
  },
  {
   "cell_type": "code",
   "execution_count": 3,
   "id": "8ba316cc-41eb-4114-8190-3405706aaa90",
   "metadata": {},
   "outputs": [],
   "source": [
    "years = [2024]"
   ]
  },
  {
   "cell_type": "code",
   "execution_count": 4,
   "id": "5adf2db6-36be-4dd5-a9e1-a3c9fd5e85b8",
   "metadata": {},
   "outputs": [],
   "source": [
    "file_timestamp = datetime.today().strftime('%Y%m%d%H%M%S')"
   ]
  },
  {
   "cell_type": "code",
   "execution_count": 5,
   "id": "ce3cb32d-eb7b-4f70-9d82-1044b9b5618f",
   "metadata": {},
   "outputs": [
    {
     "name": "stdout",
     "output_type": "stream",
     "text": [
      "2024 done.\n",
      "Downcasting floats.\n",
      "Downcasting floats.\n"
     ]
    },
    {
     "name": "stderr",
     "output_type": "stream",
     "text": [
      "WARNING:root:The win totals data source is currently in flux and may be out of date.\n"
     ]
    }
   ],
   "source": [
    "nfl.import_pbp_data(years).to_parquet(f'data/nfl_data_py/pbp_data/pbp_data_{file_timestamp}.parquet')\n",
    "nfl.import_weekly_data(years).to_parquet(f'data/nfl_data_py/weekly_data/weekly_data_{file_timestamp}.parquet')\n",
    "nfl.import_seasonal_data(years, s_type='REG').to_parquet(f'data/nfl_data_py/seasonal_data/seasonal_data_{file_timestamp}.parquet')\n",
    "nfl.import_seasonal_rosters(years).to_parquet(f'data/nfl_data_py/seasonal_rosters/seasonal_rosters_{file_timestamp}.parquet')\n",
    "nfl.import_weekly_rosters(years).to_parquet(f'data/nfl_data_py/weekly_rosters/weekly_rosters_{file_timestamp}.parquet')\n",
    "nfl.import_win_totals(years).to_parquet(f'data/nfl_data_py/win_totals/win_totals_{file_timestamp}.parquet')\n",
    "nfl.import_sc_lines(years).to_parquet(f'data/nfl_data_py/sc_totals/sc_totals_{file_timestamp}.parquet')\n",
    "nfl.import_team_desc().to_parquet(f'data/nfl_data_py/teams/teams_{file_timestamp}.parquet')\n",
    "nfl.import_schedules(years).to_parquet(f'data/nfl_data_py/schedules/schedules_{file_timestamp}.parquet')\n",
    "nfl.import_ids().to_parquet(f'data/nfl_data_py/ids/ids_{file_timestamp}.parquet')\n",
    "nfl.import_depth_charts(years).to_parquet(f'data/nfl_data_py/depth_charts/depth_charts_{file_timestamp}.parquet')\n",
    "nfl.import_injuries(years).to_parquet(f'data/nfl_data_py/injuries/injuries_{file_timestamp}.parquet')\n",
    "nfl.import_qbr(years).to_parquet(f'data/nfl_data_py/qbr/qbr_{file_timestamp}.parquet')\n",
    "nfl.import_seasonal_pfr(s_type = 'pass', years = years).to_parquet(f'data/nfl_data_py/seasonal_pfr_pass/seasonal_pfr_pass_{file_timestamp}.parquet')\n",
    "nfl.import_weekly_pfr(s_type = 'pass', years = years).to_parquet(f'data/nfl_data_py/weekly_pfr_pass/weekly_pfr_pass_{file_timestamp}.parquet')\n",
    "nfl.import_snap_counts(years).to_parquet(f'data/nfl_data_py/snap_counts/snap_counts_{file_timestamp}.parquet')\n"
   ]
  },
  {
   "cell_type": "code",
   "execution_count": null,
   "id": "7a82b0a6-4bcc-4f24-94e2-ffa7e3be7285",
   "metadata": {},
   "outputs": [],
   "source": []
  }
 ],
 "metadata": {
  "kernelspec": {
   "display_name": "Python 3 (ipykernel)",
   "language": "python",
   "name": "python3"
  },
  "language_info": {
   "codemirror_mode": {
    "name": "ipython",
    "version": 3
   },
   "file_extension": ".py",
   "mimetype": "text/x-python",
   "name": "python",
   "nbconvert_exporter": "python",
   "pygments_lexer": "ipython3",
   "version": "3.10.10"
  }
 },
 "nbformat": 4,
 "nbformat_minor": 5
}
